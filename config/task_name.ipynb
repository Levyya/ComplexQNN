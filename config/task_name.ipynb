{
 "cells": [
  {
   "cell_type": "code",
   "execution_count": null,
   "id": "c6506fb0-76d6-448f-b234-d6e86fd36568",
   "metadata": {},
   "outputs": [],
   "source": [
    "allennlp train config/text_classifier_cnn.jsonnet --include-package myclassifier -s ./result/cr_textcnn -f --dry-run"
   ]
  },
  {
   "cell_type": "code",
   "execution_count": null,
   "id": "4f6e2099-e6d1-4bf9-b304-e0b2dee3aad1",
   "metadata": {},
   "outputs": [],
   "source": [
    "  train_data_path: '/workspace/Wei_lai/NLP/data/SST/Binary/sentiment-train',\n",
    "  validation_data_path: '/workspace/Wei_lai/NLP/data/SST/Binary/sentiment-dev',"
   ]
  },
  {
   "cell_type": "code",
   "execution_count": null,
   "id": "ebbfcc43-576f-42c7-abaa-527ac5d137e4",
   "metadata": {},
   "outputs": [],
   "source": [
    "  train_data_path: '/workspace/Wei_lai/NLP/Mine_Project/NLP/Mine_Project/AllenNLP/Learning/Baseline_Allennlp/data/CR/CR_train.txt',\n",
    "  validation_data_path: '/workspace/Wei_lai/NLP/Mine_Project/NLP/Mine_Project/AllenNLP/Learning/Baseline_Allennlp/data/CR/CR_test.txt',"
   ]
  },
  {
   "cell_type": "code",
   "execution_count": null,
   "id": "595b6087-4018-4480-8063-c366b65bdf80",
   "metadata": {},
   "outputs": [],
   "source": [
    "  train_data_path: '/workspace/Wei_lai/NLP/Mine_Project/NLP/Mine_Project/AllenNLP/Learning/Baseline_Allennlp/data/MPQA/MPQA_train.txt',\n",
    "  validation_data_path: '/workspace/Wei_lai/NLP/Mine_Project/NLP/Mine_Project/AllenNLP/Learning/Baseline_Allennlp/data/MPQA/MPQA_test.txt',"
   ]
  },
  {
   "cell_type": "code",
   "execution_count": null,
   "id": "6c7e2dde-db98-46e3-a7ec-3e6077658b14",
   "metadata": {},
   "outputs": [],
   "source": []
  }
 ],
 "metadata": {
  "kernelspec": {
   "display_name": "allennlp",
   "language": "python",
   "name": "allennlp"
  },
  "language_info": {
   "codemirror_mode": {
    "name": "ipython",
    "version": 3
   },
   "file_extension": ".py",
   "mimetype": "text/x-python",
   "name": "python",
   "nbconvert_exporter": "python",
   "pygments_lexer": "ipython3",
   "version": "3.8.13"
  }
 },
 "nbformat": 4,
 "nbformat_minor": 5
}
