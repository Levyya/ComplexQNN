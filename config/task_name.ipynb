{
 "cells": [
  {
   "cell_type": "code",
   "execution_count": null,
   "id": "c6506fb0-76d6-448f-b234-d6e86fd36568",
   "metadata": {},
   "outputs": [],
   "source": [
    "allennlp train config/text_classifier_cnn.jsonnet --include-package myclassifier -s ./result/cr_textcnn -f --dry-run"
   ]
  },
  {
   "cell_type": "code",
   "execution_count": null,
   "id": "4f6e2099-e6d1-4bf9-b304-e0b2dee3aad1",
   "metadata": {},
   "outputs": [],
   "source": [
    "  train_data_path: '/workspace/Wei_lai/NLP/data/SST/Binary/sentiment-train',\n",
    "  validation_data_path: '/workspace/Wei_lai/NLP/data/SST/Binary/sentiment-dev',"
   ]
  },
  {
   "cell_type": "code",
   "execution_count": null,
   "id": "ebbfcc43-576f-42c7-abaa-527ac5d137e4",
   "metadata": {},
   "outputs": [],
   "source": [
    "  train_data_path: '/workspace/Wei_lai/NLP/Mine_Project/NLP/Mine_Project/AllenNLP/Learning/Baseline_Allennlp/data/CR/CR_train.txt',\n",
    "  validation_data_path: '/workspace/Wei_lai/NLP/Mine_Project/NLP/Mine_Project/AllenNLP/Learning/Baseline_Allennlp/data/CR/CR_test.txt',"
   ]
  },
  {
   "cell_type": "code",
   "execution_count": null,
   "id": "595b6087-4018-4480-8063-c366b65bdf80",
   "metadata": {},
   "outputs": [],
   "source": [
    "  train_data_path: '/workspace/Wei_lai/NLP/Mine_Project/NLP/Mine_Project/AllenNLP/Learning/Baseline_Allennlp/data/MPQA/MPQA_train.txt',\n",
    "  validation_data_path: '/workspace/Wei_lai/NLP/Mine_Project/NLP/Mine_Project/AllenNLP/Learning/Baseline_Allennlp/data/MPQA/MPQA_test.txt',"
   ]
  },
  {
   "cell_type": "code",
   "execution_count": null,
   "id": "6c7e2dde-db98-46e3-a7ec-3e6077658b14",
   "metadata": {},
   "outputs": [],
   "source": [
    "train"
   ]
  },
  {
   "cell_type": "code",
   "execution_count": null,
   "id": "e4de6f79-068c-4a1c-a81a-0cb89c468841",
   "metadata": {},
   "outputs": [],
   "source": [
    "# ELMo\n",
    "allennlp train config/text_classifier_elmo.jsonnet --include-package myclassifier -s ./result/sst5_emlo -f --dry-run"
   ]
  },
  {
   "cell_type": "code",
   "execution_count": null,
   "id": "5ce5947e-27d5-4d83-8fa4-7251b1542f9d",
   "metadata": {},
   "outputs": [],
   "source": [
    "# GRU\n",
    "allennlp train config/text_classifier_gru.jsonnet --include-package myclassifier -s ./result/cr_textcnn -f --dry-run"
   ]
  },
  {
   "cell_type": "code",
   "execution_count": null,
   "id": "3bce6d54-6917-4580-b11f-ace63d56c166",
   "metadata": {},
   "outputs": [],
   "source": [
    "# TextCNN\n",
    "allennlp train config/text_classifier_cnn.jsonnet --include-package myclassifier -s ./result/mytrain2 -f --dry-run"
   ]
  },
  {
   "cell_type": "code",
   "execution_count": null,
   "id": "592a1d4f-588e-41f6-a109-00f8acffb24e",
   "metadata": {},
   "outputs": [],
   "source": [
    "# ComplexQDNN\n",
    "allennlp train config/text_classifier_complexqdnn.jsonnet --include-package myclassifier -s ./result/sst5_complexqdnn -f --dry-run"
   ]
  }
 ],
 "metadata": {
  "kernelspec": {
   "display_name": "allennlp",
   "language": "python",
   "name": "allennlp"
  },
  "language_info": {
   "codemirror_mode": {
    "name": "ipython",
    "version": 3
   },
   "file_extension": ".py",
   "mimetype": "text/x-python",
   "name": "python",
   "nbconvert_exporter": "python",
   "pygments_lexer": "ipython3",
   "version": "3.8.13"
  }
 },
 "nbformat": 4,
 "nbformat_minor": 5
}
