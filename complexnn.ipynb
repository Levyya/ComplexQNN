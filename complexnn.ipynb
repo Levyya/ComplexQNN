{
 "cells": [
  {
   "cell_type": "code",
   "execution_count": 2,
   "id": "2a989dcd-e623-4e6b-b9f5-47bdd2a3da78",
   "metadata": {},
   "outputs": [
    {
     "name": "stderr",
     "output_type": "stream",
     "text": [
      "/root/anaconda3/envs/allennlp/lib/python3.8/site-packages/tqdm/auto.py:22: TqdmWarning: IProgress not found. Please update jupyter and ipywidgets. See https://ipywidgets.readthedocs.io/en/stable/user_install.html\n",
      "  from .autonotebook import tqdm as notebook_tqdm\n"
     ]
    }
   ],
   "source": [
    "from complexPyTorch.complexLayers import ComplexLinear"
   ]
  },
  {
   "cell_type": "code",
   "execution_count": 3,
   "id": "7ee59952-b605-44c5-9c52-ae360e68a1d9",
   "metadata": {},
   "outputs": [],
   "source": [
    "linear = ComplexLinear(10, 20)"
   ]
  },
  {
   "cell_type": "code",
   "execution_count": 8,
   "id": "49413a85-08d9-432c-a0f4-69f046ebf966",
   "metadata": {},
   "outputs": [],
   "source": [
    "import torch\n",
    "\n",
    "x = torch.randint(size=[32, 10], high=100).type(torch.float)\n",
    "x_m = torch.zeros_like(x)\n",
    "x = x + 1j * x_m\n",
    "\n",
    "result = linear(x)"
   ]
  },
  {
   "cell_type": "code",
   "execution_count": 9,
   "id": "da234ca4-01fd-4cb7-bbc8-f5a8cf16976c",
   "metadata": {},
   "outputs": [
    {
     "data": {
      "text/plain": [
       "torch.Size([32, 20])"
      ]
     },
     "execution_count": 9,
     "metadata": {},
     "output_type": "execute_result"
    }
   ],
   "source": [
    "result.shape"
   ]
  },
  {
   "cell_type": "code",
   "execution_count": null,
   "id": "e1e7f659-56bf-402e-94a4-98769f8eb405",
   "metadata": {},
   "outputs": [],
   "source": [
    "# weight_matrix\n",
    "w = "
   ]
  },
  {
   "cell_type": "code",
   "execution_count": 11,
   "id": "be0a46f9-12c6-4482-8486-8bd7e496cc54",
   "metadata": {},
   "outputs": [],
   "source": [
    "# result"
   ]
  },
  {
   "cell_type": "code",
   "execution_count": null,
   "id": "b2c35e52-ced9-45f6-afe3-a7ca916f882d",
   "metadata": {},
   "outputs": [],
   "source": []
  }
 ],
 "metadata": {
  "kernelspec": {
   "display_name": "allennlp",
   "language": "python",
   "name": "allennlp"
  },
  "language_info": {
   "codemirror_mode": {
    "name": "ipython",
    "version": 3
   },
   "file_extension": ".py",
   "mimetype": "text/x-python",
   "name": "python",
   "nbconvert_exporter": "python",
   "pygments_lexer": "ipython3",
   "version": "3.8.13"
  }
 },
 "nbformat": 4,
 "nbformat_minor": 5
}
