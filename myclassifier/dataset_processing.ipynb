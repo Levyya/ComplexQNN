{
 "cells": [
  {
   "cell_type": "code",
   "execution_count": 1,
   "id": "48482651-5fd5-4077-a894-a490da320843",
   "metadata": {},
   "outputs": [
    {
     "data": {
      "text/plain": [
       "'/workspace/Wei_lai/NLP/Mine_Project/NLP/Mine_Project/AllenNLP/Learning/Baseline_Allennlp/myclassifier'"
      ]
     },
     "execution_count": 1,
     "metadata": {},
     "output_type": "execute_result"
    }
   ],
   "source": [
    "pwd"
   ]
  },
  {
   "cell_type": "code",
   "execution_count": 2,
   "id": "8684592b-c08b-4d92-976e-40f877f4f229",
   "metadata": {},
   "outputs": [
    {
     "name": "stdout",
     "output_type": "stream",
     "text": [
      "/workspace/Wei_lai/NLP/data\n"
     ]
    }
   ],
   "source": [
    "cd /workspace/Wei_lai/NLP/data"
   ]
  },
  {
   "cell_type": "code",
   "execution_count": 3,
   "id": "a210c040-4008-4438-b431-3f986b06591d",
   "metadata": {},
   "outputs": [
    {
     "name": "stdout",
     "output_type": "stream",
     "text": [
      "\u001b[0m\u001b[01;34mCR\u001b[0m/  \u001b[01;34mMPQA\u001b[0m/  \u001b[01;34mMR\u001b[0m/  \u001b[01;34mMRPC\u001b[0m/  pwd.ipynb  \u001b[01;34mQA\u001b[0m/  \u001b[01;34mSNLI\u001b[0m/  \u001b[01;34mSST\u001b[0m/  \u001b[01;34mSTS\u001b[0m/  \u001b[01;34mSUBJ\u001b[0m/  \u001b[01;34mTREC\u001b[0m/\n"
     ]
    }
   ],
   "source": [
    "ls"
   ]
  },
  {
   "cell_type": "code",
   "execution_count": 4,
   "id": "09b04284-112a-47b7-a12e-4819abd68b45",
   "metadata": {},
   "outputs": [],
   "source": [
    "CR_DIR = '/workspace/Wei_lai/NLP/data/CR'\n",
    "MRQA_DIR = '/workspace/Wei_lai/NLP/data/MPQA'\n",
    "MR_DIR = '/workspace/Wei_lai/NLP/data/MR'\n",
    "SUBJ = '/workspace/Wei_lai/NLP/data/SUBJ'"
   ]
  },
  {
   "cell_type": "code",
   "execution_count": 5,
   "id": "6d9f6b49-05a7-43b7-a02f-bf5d1d94ab35",
   "metadata": {},
   "outputs": [
    {
     "name": "stdout",
     "output_type": "stream",
     "text": [
      "/workspace/Wei_lai/NLP/data/CR\n"
     ]
    }
   ],
   "source": [
    "cd /workspace/Wei_lai/NLP/data/CR"
   ]
  },
  {
   "cell_type": "code",
   "execution_count": 6,
   "id": "a9624fa0-d2b5-4a09-a358-cdbc0c5f8723",
   "metadata": {},
   "outputs": [
    {
     "name": "stdout",
     "output_type": "stream",
     "text": [
      "custrev.neg  custrev.pos\n"
     ]
    }
   ],
   "source": [
    "ls"
   ]
  },
  {
   "cell_type": "code",
   "execution_count": 7,
   "id": "36ac5b48-bcc5-40ab-acfd-57197d40787c",
   "metadata": {},
   "outputs": [],
   "source": [
    "import os"
   ]
  },
  {
   "cell_type": "code",
   "execution_count": 23,
   "id": "5c8167d4-4c99-42a9-9b15-3f4973eff9ea",
   "metadata": {},
   "outputs": [],
   "source": [
    "neg_file = os.path.join(CR_DIR, 'custrev.neg')\n",
    "pos_file = os.path.join(CR_DIR, 'custrev.pos')"
   ]
  },
  {
   "cell_type": "code",
   "execution_count": 33,
   "id": "80be6325-8ba7-4337-8523-3885b4ef4c6c",
   "metadata": {},
   "outputs": [],
   "source": [
    "def get_lines(file_path: str):\n",
    "    text = []\n",
    "    with open(file_path, 'r') as f:\n",
    "        for line in f.readlines():\n",
    "            text.append(line.strip())\n",
    "        f.close()\n",
    "    return text\n",
    "\n",
    "neg_text = get_lines(neg_file)\n",
    "pos_text = get_lines(pos_file)"
   ]
  },
  {
   "cell_type": "code",
   "execution_count": 34,
   "id": "bc731001-0022-4a16-83a6-1166de1c7713",
   "metadata": {},
   "outputs": [
    {
     "name": "stdout",
     "output_type": "stream",
     "text": [
      "1368\n",
      "2407\n"
     ]
    }
   ],
   "source": [
    "print(len(neg_text))\n",
    "print(len(pos_text))"
   ]
  },
  {
   "cell_type": "code",
   "execution_count": 35,
   "id": "632e1dcd-f96c-40ac-b0bc-5ccc9fcafff8",
   "metadata": {},
   "outputs": [],
   "source": [
    "from sklearn.model_selection import train_test_split\n",
    "\n",
    "pos_train, pos_test, _, _ = train_test_split(pos_text, range(len(pos_text)), test_size=0.3, random_state=42)\n",
    "neg_train, neg_test, _, _ = train_test_split(neg_text, range(len(neg_text)), test_size=0.3, random_state=42)"
   ]
  },
  {
   "cell_type": "code",
   "execution_count": 36,
   "id": "390a5043-6617-4012-b8f1-b146c4fa5771",
   "metadata": {},
   "outputs": [
    {
     "data": {
      "text/plain": [
       "1684"
      ]
     },
     "execution_count": 36,
     "metadata": {},
     "output_type": "execute_result"
    }
   ],
   "source": [
    "len(pos_train)"
   ]
  },
  {
   "cell_type": "code",
   "execution_count": 37,
   "id": "0664c1f6-82c6-4261-9a30-e04dad0c1877",
   "metadata": {},
   "outputs": [
    {
     "data": {
      "text/plain": [
       "723"
      ]
     },
     "execution_count": 37,
     "metadata": {},
     "output_type": "execute_result"
    }
   ],
   "source": [
    "len(pos_test)"
   ]
  },
  {
   "cell_type": "code",
   "execution_count": 38,
   "id": "daf06c77-88c8-405c-b6be-fa5c469fbc64",
   "metadata": {},
   "outputs": [
    {
     "data": {
      "text/plain": [
       "957"
      ]
     },
     "execution_count": 38,
     "metadata": {},
     "output_type": "execute_result"
    }
   ],
   "source": [
    "len(neg_train)"
   ]
  },
  {
   "cell_type": "code",
   "execution_count": 39,
   "id": "94ff4599-6cc3-44ac-a77a-95b05911d6b9",
   "metadata": {},
   "outputs": [
    {
     "data": {
      "text/plain": [
       "411"
      ]
     },
     "execution_count": 39,
     "metadata": {},
     "output_type": "execute_result"
    }
   ],
   "source": [
    "len(neg_test)"
   ]
  },
  {
   "cell_type": "code",
   "execution_count": 41,
   "id": "48c3d833-f044-453c-a9c4-5c7d8000cbc6",
   "metadata": {},
   "outputs": [],
   "source": [
    "import random"
   ]
  },
  {
   "cell_type": "code",
   "execution_count": 42,
   "id": "019fa78b-7353-4800-9637-217c6e2c97fb",
   "metadata": {},
   "outputs": [],
   "source": [
    "cr_train_path = '/workspace/Wei_lai/NLP/Mine_Project/NLP/Mine_Project/AllenNLP/Learning/Baseline_Allennlp/data/CR/cr_train.txt'\n",
    "cr_test_path = '/workspace/Wei_lai/NLP/Mine_Project/NLP/Mine_Project/AllenNLP/Learning/Baseline_Allennlp/data/CR/cr_test.txt'\n",
    "\n",
    "def save_lines(pos_lines: list, neg_lines: list, file_path: str, is_pos: bool = True):\n",
    "    lines = []\n",
    "    for line in pos_lines:\n",
    "        lines.append(line + '\\t' + '1\\n')\n",
    "    for line in neg_lines:\n",
    "        lines.append(line + '\\t' + '0\\n')\n",
    "    random.shuffle(lines)\n",
    "    with open(file_path, 'w') as f:\n",
    "        for line in lines:\n",
    "            f.write(line)\n",
    "        f.close()\n",
    "        \n",
    "        \n",
    "save_lines(pos_train, neg_train, cr_train_path)\n",
    "save_lines(neg_test, neg_test, cr_test_path)"
   ]
  },
  {
   "cell_type": "code",
   "execution_count": 43,
   "id": "e05ad447-ba72-4733-bec8-afb2a9428826",
   "metadata": {},
   "outputs": [
    {
     "name": "stdout",
     "output_type": "stream",
     "text": [
      "/workspace/Wei_lai/NLP/data/MPQA\n"
     ]
    }
   ],
   "source": [
    "cd /workspace/Wei_lai/NLP/data/MPQA"
   ]
  },
  {
   "cell_type": "code",
   "execution_count": 44,
   "id": "f100ca79-9cbd-4d93-9338-e965229c4c2d",
   "metadata": {},
   "outputs": [
    {
     "name": "stdout",
     "output_type": "stream",
     "text": [
      "mpqa.neg  mpqa.pos\n"
     ]
    }
   ],
   "source": [
    "ls"
   ]
  },
  {
   "cell_type": "code",
   "execution_count": 45,
   "id": "8e55ef6a-6bd9-4b7f-96df-5743aacb8e20",
   "metadata": {},
   "outputs": [
    {
     "data": {
      "text/plain": [
       "'/workspace/Wei_lai/Mine_Project'"
      ]
     },
     "execution_count": 45,
     "metadata": {},
     "output_type": "execute_result"
    }
   ],
   "source": [
    "os.path.join('/workspace/', 'Wei_lai', 'Mine_Project')"
   ]
  },
  {
   "cell_type": "code",
   "execution_count": 1,
   "id": "0c5ef6c8-aa34-4d55-8a06-8f8ba4fb38f9",
   "metadata": {},
   "outputs": [],
   "source": [
    "import os\n",
    "import random\n",
    "from sklearn.model_selection import train_test_split\n",
    "\n",
    "SAVE_DATA_DIR = '/workspace/Wei_lai/NLP/Mine_Project/NLP/Mine_Project/AllenNLP/Learning/Baseline_Allennlp/data'\n",
    "CR_DIR = '/workspace/Wei_lai/NLP/data/CR'\n",
    "MPQA_DIR = '/workspace/Wei_lai/NLP/data/MPQA'\n",
    "MR_DIR = '/workspace/Wei_lai/NLP/data/MR'\n",
    "SUBJ_DIR = '/workspace/Wei_lai/NLP/data/SUBJ'\n",
    "\n",
    "\n",
    "def get_lines(file_path: str):\n",
    "    text = []\n",
    "    with open(file_path, 'r') as f:\n",
    "        for line in f.readlines():\n",
    "            text.append(line.strip())\n",
    "        f.close()\n",
    "    return text\n",
    "\n",
    "\n",
    "def save_lines(pos_lines: list, neg_lines: list, file_path: str, is_pos: bool = True):\n",
    "    lines = []\n",
    "    for line in pos_lines:\n",
    "        lines.append(line + '\\t' + '1\\n')\n",
    "    for line in neg_lines:\n",
    "        lines.append(line + '\\t' + '0\\n')\n",
    "    random.shuffle(lines)\n",
    "    with open(file_path, 'w') as f:\n",
    "        for line in lines:\n",
    "            f.write(line)\n",
    "        f.close()\n",
    "\n",
    "\n",
    "def split_train_test():\n",
    "    datasets = ['CR', 'MPQA', 'MR', 'SUBJ']\n",
    "    for name in datasets:\n",
    "        if name == 'CR':\n",
    "            neg_file = os.path.join(CR_DIR, 'custrev.neg')\n",
    "            pos_file = os.path.join(CR_DIR, 'custrev.pos')\n",
    "        elif name == 'MPQA':\n",
    "            neg_file = os.path.join(MPQA_DIR, 'mpqa.neg')\n",
    "            pos_file = os.path.join(MPQA_DIR, 'mpqa.pos')\n",
    "        elif name == 'MR':\n",
    "            neg_file = os.path.join(MR_DIR, 'rt-polarity.neg')\n",
    "            pos_file = os.path.join(MR_DIR, 'rt-polarity.pos')\n",
    "        elif name == 'SUBJ':\n",
    "            neg_file = os.path.join(SUBJ_DIR, 'subj.objective')\n",
    "            pos_file = os.path.join(SUBJ_DIR, 'subj.subjective')\n",
    "        else:\n",
    "            raise NotImplementedError\n",
    "        \n",
    "        \n",
    "        # example: data/CR\n",
    "        if not os.path.exists(os.path.join(SAVE_DATA_DIR, name)):\n",
    "            os.mkdir(os.path.join(SAVE_DATA_DIR, name))\n",
    "        # example: data/CR/CR_train\n",
    "        train_path = os.path.join(SAVE_DATA_DIR, name, name + '_train.txt')\n",
    "        test_path = os.path.join(SAVE_DATA_DIR, name, name + '_test.txt')\n",
    "                          \n",
    "        neg_text = get_lines(neg_file)\n",
    "        pos_text = get_lines(pos_file)\n",
    "        pos_train, pos_test, _, _ = train_test_split(pos_text, range(len(pos_text)), test_size=0.3, random_state=42)\n",
    "        neg_train, neg_test, _, _ = train_test_split(neg_text, range(len(neg_text)), test_size=0.3, random_state=42)\n",
    "        save_lines(pos_train, neg_train, train_path)\n",
    "        save_lines(pos_test, neg_test, test_path)\n",
    "\n",
    "    \n",
    "split_train_test()"
   ]
  },
  {
   "cell_type": "code",
   "execution_count": 22,
   "id": "3cabc4cc-b93b-463f-a0fa-0908ef811792",
   "metadata": {},
   "outputs": [
    {
     "data": {
      "text/plain": [
       "\"the player feels very delicate , as if i 'm holding an actual hard drive . \\n\""
      ]
     },
     "execution_count": 22,
     "metadata": {},
     "output_type": "execute_result"
    }
   ],
   "source": [
    "neg_test[0]"
   ]
  },
  {
   "cell_type": "markdown",
   "id": "ed1e1a1d-d56e-4df5-bb20-14776161186e",
   "metadata": {},
   "source": [
    "# 删除训练过程中保存的模型"
   ]
  },
  {
   "cell_type": "code",
   "execution_count": null,
   "id": "f06268ee-cbc7-47a1-9510-dcc7dae73607",
   "metadata": {},
   "outputs": [],
   "source": [
    "rm ./result/*/*_state_*.th -f"
   ]
  }
 ],
 "metadata": {
  "kernelspec": {
   "display_name": "allennlp",
   "language": "python",
   "name": "allennlp"
  },
  "language_info": {
   "codemirror_mode": {
    "name": "ipython",
    "version": 3
   },
   "file_extension": ".py",
   "mimetype": "text/x-python",
   "name": "python",
   "nbconvert_exporter": "python",
   "pygments_lexer": "ipython3",
   "version": "3.8.13"
  }
 },
 "nbformat": 4,
 "nbformat_minor": 5
}
