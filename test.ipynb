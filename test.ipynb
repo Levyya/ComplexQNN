{
 "cells": [
  {
   "cell_type": "code",
   "execution_count": 1,
   "id": "19d14da9-34f4-4942-bc8d-266676627cb4",
   "metadata": {
    "tags": []
   },
   "outputs": [
    {
     "name": "stderr",
     "output_type": "stream",
     "text": [
      "2023-03-14 15:29:46.217173: I tensorflow/core/platform/cpu_feature_guard.cc:193] This TensorFlow binary is optimized with oneAPI Deep Neural Network Library (oneDNN) to use the following CPU instructions in performance-critical operations:  AVX2 AVX512F FMA\n",
      "To enable them in other operations, rebuild TensorFlow with the appropriate compiler flags.\n",
      "2023-03-14 15:29:46.330168: W tensorflow/compiler/xla/stream_executor/platform/default/dso_loader.cc:64] Could not load dynamic library 'libcudart.so.11.0'; dlerror: libcudart.so.11.0: cannot open shared object file: No such file or directory\n",
      "2023-03-14 15:29:46.330197: I tensorflow/compiler/xla/stream_executor/cuda/cudart_stub.cc:29] Ignore above cudart dlerror if you do not have a GPU set up on your machine.\n",
      "2023-03-14 15:29:47.052493: W tensorflow/compiler/xla/stream_executor/platform/default/dso_loader.cc:64] Could not load dynamic library 'libnvinfer.so.7'; dlerror: libnvinfer.so.7: cannot open shared object file: No such file or directory\n",
      "2023-03-14 15:29:47.052563: W tensorflow/compiler/xla/stream_executor/platform/default/dso_loader.cc:64] Could not load dynamic library 'libnvinfer_plugin.so.7'; dlerror: libnvinfer_plugin.so.7: cannot open shared object file: No such file or directory\n",
      "2023-03-14 15:29:47.052572: W tensorflow/compiler/tf2tensorrt/utils/py_utils.cc:38] TF-TRT Warning: Cannot dlopen some TensorRT libraries. If you would like to use Nvidia GPU with TensorRT, please make sure the missing libraries mentioned above are installed properly.\n"
     ]
    }
   ],
   "source": [
    "from allennlp.training.metrics import CategoricalAccuracy, F1Measure, FBetaMultiLabelMeasure, FBetaMeasure, BooleanAccuracy\n",
    "import torch"
   ]
  },
  {
   "cell_type": "code",
   "execution_count": 2,
   "id": "8c4674c8-0f57-4dc0-9feb-5b16b41a98a4",
   "metadata": {
    "tags": []
   },
   "outputs": [],
   "source": [
    "f1_multi = FBetaMultiLabelMeasure(average='macro')"
   ]
  },
  {
   "cell_type": "code",
   "execution_count": 5,
   "id": "9ef54b8f-3419-451c-ab2d-441e84186d97",
   "metadata": {
    "tags": []
   },
   "outputs": [],
   "source": [
    "x = torch.randint(size=[4], high=2)"
   ]
  },
  {
   "cell_type": "code",
   "execution_count": 6,
   "id": "0426c067-bead-4c3d-bc73-f065cf08eea0",
   "metadata": {
    "tags": []
   },
   "outputs": [
    {
     "data": {
      "text/plain": [
       "tensor([0, 0, 1, 1])"
      ]
     },
     "execution_count": 6,
     "metadata": {},
     "output_type": "execute_result"
    }
   ],
   "source": [
    "x"
   ]
  },
  {
   "cell_type": "code",
   "execution_count": 7,
   "id": "bd60e23d-e567-468f-9192-5f92ac6e1b16",
   "metadata": {
    "tags": []
   },
   "outputs": [],
   "source": [
    "import torch.nn.functional as F"
   ]
  },
  {
   "cell_type": "code",
   "execution_count": 8,
   "id": "c26023da-1049-44a7-8663-24646659497b",
   "metadata": {
    "tags": []
   },
   "outputs": [],
   "source": [
    "one_hot = F.one_hot(x, 2)"
   ]
  },
  {
   "cell_type": "code",
   "execution_count": 9,
   "id": "c95ca275-c02e-499c-889a-a24314e8798d",
   "metadata": {
    "tags": []
   },
   "outputs": [
    {
     "data": {
      "text/plain": [
       "tensor([[1, 0],\n",
       "        [1, 0],\n",
       "        [0, 1],\n",
       "        [0, 1]])"
      ]
     },
     "execution_count": 9,
     "metadata": {},
     "output_type": "execute_result"
    }
   ],
   "source": [
    "one_hot"
   ]
  },
  {
   "cell_type": "code",
   "execution_count": 10,
   "id": "74af2b59-2e3d-43ab-b433-cb9363fca846",
   "metadata": {
    "tags": []
   },
   "outputs": [],
   "source": [
    "label = torch.randint(size=[4], high=2)"
   ]
  },
  {
   "cell_type": "code",
   "execution_count": 11,
   "id": "86a582e8-5dbf-446b-bd5a-7a95d9ffb27d",
   "metadata": {
    "tags": []
   },
   "outputs": [
    {
     "data": {
      "text/plain": [
       "tensor([0, 1, 1, 1])"
      ]
     },
     "execution_count": 11,
     "metadata": {},
     "output_type": "execute_result"
    }
   ],
   "source": [
    "label"
   ]
  },
  {
   "cell_type": "code",
   "execution_count": 14,
   "id": "c5565542-5552-4796-aa3f-0c86097fe2fa",
   "metadata": {
    "tags": []
   },
   "outputs": [],
   "source": [
    "y_one_hot = F.one_hot(label, 2)"
   ]
  },
  {
   "cell_type": "code",
   "execution_count": 15,
   "id": "371f75b5-7cb8-4244-8d36-d3dd47bd0a78",
   "metadata": {
    "tags": []
   },
   "outputs": [],
   "source": [
    "f1_multi(one_hot, y_one_hot)"
   ]
  },
  {
   "cell_type": "code",
   "execution_count": 16,
   "id": "64597cbd-feb8-47a0-a751-203b69ea6b14",
   "metadata": {
    "tags": []
   },
   "outputs": [
    {
     "data": {
      "text/plain": [
       "{'precision': 0.75, 'recall': 0.8333333730697632, 'fscore': 0.7333333492279053}"
      ]
     },
     "execution_count": 16,
     "metadata": {},
     "output_type": "execute_result"
    }
   ],
   "source": [
    "f1_multi.get_metric()"
   ]
  },
  {
   "cell_type": "code",
   "execution_count": null,
   "id": "5f96f523-22a4-416c-88d1-ab42d899ae54",
   "metadata": {},
   "outputs": [],
   "source": []
  }
 ],
 "metadata": {
  "kernelspec": {
   "display_name": "Python 3 (ipykernel)",
   "language": "python",
   "name": "python3"
  },
  "language_info": {
   "codemirror_mode": {
    "name": "ipython",
    "version": 3
   },
   "file_extension": ".py",
   "mimetype": "text/x-python",
   "name": "python",
   "nbconvert_exporter": "python",
   "pygments_lexer": "ipython3",
   "version": "3.7.5"
  }
 },
 "nbformat": 4,
 "nbformat_minor": 5
}
